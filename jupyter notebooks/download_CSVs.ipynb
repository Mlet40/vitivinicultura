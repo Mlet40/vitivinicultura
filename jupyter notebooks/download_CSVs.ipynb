{
 "cells": [
  {
   "cell_type": "code",
   "execution_count": 1,
   "id": "1b263418",
   "metadata": {},
   "outputs": [],
   "source": [
    "import requests\n",
    "\n",
    "def downloadCSV(nome):\n",
    "\n",
    "    url=\"http://vitibrasil.cnpuv.embrapa.br/download/\"+nome\n",
    "    download=requests.get(url)\n",
    "    if (download.status_code==200):\n",
    "        with open(f\"./csv/{nome}\", 'wb') as f:\n",
    "            f.write(download.content)\n",
    "        return True\n",
    "    else :\n",
    "        print( \"erro na pagina\")# colocar uma ação de informação q deu ruim no download\n",
    "    return False\n",
    "\n",
    "csvs=[\"Producao.csv\" ,\"ProcessaSemclass.csv\",\"ProcessaViniferas.csv\",\"ProcessaMesa.csv\",\"ProcessaAmericanas.csv\",\"Comercio.csv\" ,\"ImpVinhos.csv\",\"ImpEspumantes.csv\",\"ImpFrescas.csv\",\"ImpPassas.csv\",\"ImpSuco.csv\",\"ExpVinho.csv\" ,\"ExpEspumantes.csv\",\"ExpUva.csv\",\"ExpSuco.csv\"]\n",
    "#for csv in csvs:\n",
    "#    downloadCSV(csv)"
   ]
  },
  {
   "cell_type": "code",
   "execution_count": 2,
   "id": "79fc0177",
   "metadata": {},
   "outputs": [
    {
     "data": {
      "text/plain": [
       "True"
      ]
     },
     "execution_count": 2,
     "metadata": {},
     "output_type": "execute_result"
    }
   ],
   "source": [
    "downloadCSV(\"Comercio.csv\")"
   ]
  },
  {
   "cell_type": "code",
   "execution_count": null,
   "id": "678d48a5",
   "metadata": {},
   "outputs": [],
   "source": []
  }
 ],
 "metadata": {
  "kernelspec": {
   "display_name": "Python 3 (ipykernel)",
   "language": "python",
   "name": "python3"
  },
  "language_info": {
   "codemirror_mode": {
    "name": "ipython",
    "version": 3
   },
   "file_extension": ".py",
   "mimetype": "text/x-python",
   "name": "python",
   "nbconvert_exporter": "python",
   "pygments_lexer": "ipython3",
   "version": "3.10.1"
  }
 },
 "nbformat": 4,
 "nbformat_minor": 5
}
